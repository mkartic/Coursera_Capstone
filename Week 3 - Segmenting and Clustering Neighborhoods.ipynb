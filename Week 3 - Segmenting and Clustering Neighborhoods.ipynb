{
    "cells": [
        {
            "cell_type": "markdown",
            "metadata": {},
            "source": "# Week 3 Assignment\n1. Fetch data from Wikipedia's table of Canada Postal Codes starting with M.\n2. Process the Web page to create a table."
        },
        {
            "cell_type": "code",
            "execution_count": 7,
            "metadata": {},
            "outputs": [],
            "source": "import requests\n# !pip install beautifulsoup4\nfrom bs4 import BeautifulSoup\nimport pandas as pd"
        },
        {
            "cell_type": "code",
            "execution_count": 16,
            "metadata": {},
            "outputs": [],
            "source": "wiki_url = 'https://en.wikipedia.org/wiki/List_of_postal_codes_of_Canada:_M'\nresp = requests.get(wiki_url)\nsoup = BeautifulSoup(resp.text)"
        },
        {
            "cell_type": "markdown",
            "metadata": {},
            "source": "## HTML Scraping\n1. The table we're interested in has the class 'wikitable'. So I'm using a CSS selector based search to find that entry in the html page.\n1. A 'tr' is a table-row, and 'td' is table data (cell). We go through each row of the table. At each row, we extract the record, and store it in a list.\n1. We're only interested in postal codes with a borough defined. We skip rows w/o a borough. \n1. Similarly, if there's no 'neighborhood' defined, we fill it with the borough."
        },
        {
            "cell_type": "code",
            "execution_count": 18,
            "metadata": {},
            "outputs": [],
            "source": "nbhood_data = []\nfor i in soup.select('.wikitable')[0].find_all('tr')[1:]:\n    pcode, bor, nbhood = [y.strip() for y in [x.getText() for x in i.find_all('td')]]\n    if bor != 'Not assigned':\n        if nbhood == 'Not assigned':\n            nbhood = bor\n        nbhood_data.append((pcode, bor, nbhood))"
        },
        {
            "cell_type": "markdown",
            "metadata": {},
            "source": "### By checking the list of postal codes, we see that there are no duplicates.\nPlaces with duplicate postal codes have been merged into single entries in the wikipedia page."
        },
        {
            "cell_type": "code",
            "execution_count": null,
            "metadata": {},
            "outputs": [],
            "source": "t = [i[0] for i in nbhood_data]\nprint(len(t) == len(set(t))) # true - No entries in the current table have duplicate postal codes."
        },
        {
            "cell_type": "markdown",
            "metadata": {},
            "source": "## Create the data frame\nUsing the columns listed in the assignment description, we create a new data frame and fill it up."
        },
        {
            "cell_type": "code",
            "execution_count": 19,
            "metadata": {},
            "outputs": [
                {
                    "data": {
                        "text/html": "<div>\n<style scoped>\n    .dataframe tbody tr th:only-of-type {\n        vertical-align: middle;\n    }\n\n    .dataframe tbody tr th {\n        vertical-align: top;\n    }\n\n    .dataframe thead th {\n        text-align: right;\n    }\n</style>\n<table border=\"1\" class=\"dataframe\">\n  <thead>\n    <tr style=\"text-align: right;\">\n      <th></th>\n      <th>Postal Code</th>\n      <th>Borough</th>\n      <th>Neighborhood</th>\n    </tr>\n  </thead>\n  <tbody>\n    <tr>\n      <th>0</th>\n      <td>M3A</td>\n      <td>North York</td>\n      <td>Parkwoods</td>\n    </tr>\n    <tr>\n      <th>1</th>\n      <td>M4A</td>\n      <td>North York</td>\n      <td>Victoria Village</td>\n    </tr>\n    <tr>\n      <th>2</th>\n      <td>M5A</td>\n      <td>Downtown Toronto</td>\n      <td>Regent Park, Harbourfront</td>\n    </tr>\n    <tr>\n      <th>3</th>\n      <td>M6A</td>\n      <td>North York</td>\n      <td>Lawrence Manor, Lawrence Heights</td>\n    </tr>\n    <tr>\n      <th>4</th>\n      <td>M7A</td>\n      <td>Downtown Toronto</td>\n      <td>Queen's Park, Ontario Provincial Government</td>\n    </tr>\n  </tbody>\n</table>\n</div>",
                        "text/plain": "  Postal Code           Borough                                 Neighborhood\n0         M3A        North York                                    Parkwoods\n1         M4A        North York                             Victoria Village\n2         M5A  Downtown Toronto                    Regent Park, Harbourfront\n3         M6A        North York             Lawrence Manor, Lawrence Heights\n4         M7A  Downtown Toronto  Queen's Park, Ontario Provincial Government"
                    },
                    "execution_count": 19,
                    "metadata": {},
                    "output_type": "execute_result"
                }
            ],
            "source": "# define the dataframe columns\ncolumn_names = ['Postal Code', 'Borough', 'Neighborhood'] #, 'Latitude', 'Longitude'] \n\n# instantiate the dataframe\nneighborhoods = pd.DataFrame(columns=column_names)\nfor postalCode, bor, nbh in nbhood_data:\n    neighborhoods = neighborhoods.append({'Postal Code': postalCode, 'Borough': bor, 'Neighborhood': nbh}, ignore_index=True)\nneighborhoods.head()"
        },
        {
            "cell_type": "markdown",
            "metadata": {},
            "source": "## There are 103 entries in this table."
        },
        {
            "cell_type": "code",
            "execution_count": 15,
            "metadata": {},
            "outputs": [
                {
                    "data": {
                        "text/plain": "(103, 3)"
                    },
                    "execution_count": 15,
                    "metadata": {},
                    "output_type": "execute_result"
                }
            ],
            "source": "neighborhoods.shape"
        }
    ],
    "metadata": {
        "kernelspec": {
            "display_name": "Python 3.7",
            "language": "python",
            "name": "python3"
        },
        "language_info": {
            "codemirror_mode": {
                "name": "ipython",
                "version": 3
            },
            "file_extension": ".py",
            "mimetype": "text/x-python",
            "name": "python",
            "nbconvert_exporter": "python",
            "pygments_lexer": "ipython3",
            "version": "3.7.9"
        }
    },
    "nbformat": 4,
    "nbformat_minor": 1
}