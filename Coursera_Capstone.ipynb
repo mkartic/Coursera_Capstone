{
    "cells": [
        {
            "cell_type": "markdown",
            "metadata": {
                "collapsed": true
            },
            "source": "# Applied Data Science Capstone Project (Coursera)\n[Course link](https://www.coursera.org/learn/applied-data-science-capstone/home/welcome)\n\n## Introduction\nBangalore is a very vibrant and multicultural city. There's probably a restaurant here representing every cuisine in the world. But getting around the city is a hassle. Traffic is another thing Bangalore is well known for.\n\nTo help promote tourism in the city, this project will utilize data from FourSquare and Zomato to formulate a tour of the city by using just the Metro Rail Services and a bit of walking. This project can be used by Tourism Boards and \n\nBy aggregating various factors for each Metro station, we can rank them on the basis of:\n1. Proximity to tourist places like Temples, Parks, Museums, etc.\n2. Number of restaurants in the vicinity.\n3. Diversity & Ratings of restaurants in the area.\n4. Amount of walking to be done. :)\n\n\n## Data\n### Zomato\nZomato is an Indian company that aggregates restaurant data. They have a data API that can be leveraged to obtain restaurants in an area given coordinates. This data will supplement FourSquare's data very well.\nA detailed description of the API can be found at: https://developers.zomato.com/documentation#!/restaurant/search\n\nFrom Zomato, we can obtain a restaurant's\n1. Cuisine type,\n2. Ratings,\n3. Popularity, etc.\n\n### Foursquare\nWe can also use FourSquare to find out if there are any interesting places to visit that are walkable from a Metro station.\nUsing foursquare, we obtain interesting places to visit such as\n1. Museum,\n2. Expos,\n3. Theatres,\n4. Parks, etc.\n"
        }
    ],
    "metadata": {
        "kernelspec": {
            "display_name": "Python 3.7",
            "language": "python",
            "name": "python3"
        },
        "language_info": {
            "codemirror_mode": {
                "name": "ipython",
                "version": 3
            },
            "file_extension": ".py",
            "mimetype": "text/x-python",
            "name": "python",
            "nbconvert_exporter": "python",
            "pygments_lexer": "ipython3",
            "version": "3.7.9"
        }
    },
    "nbformat": 4,
    "nbformat_minor": 1
}